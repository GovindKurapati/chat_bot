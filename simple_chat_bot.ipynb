{
 "cells": [
  {
   "cell_type": "markdown",
   "id": "e02ebc35",
   "metadata": {},
   "source": [
    "## Build a chatbot using Gemini + Gradio"
   ]
  },
  {
   "cell_type": "code",
   "execution_count": null,
   "id": "91c30cbf",
   "metadata": {},
   "outputs": [],
   "source": [
    "# The library and API Key is added\n",
    "import os\n",
    "import google.generativeai as genai\n",
    "import gradio as gr\n",
    "from dotenv import load_dotenv"
   ]
  },
  {
   "cell_type": "code",
   "execution_count": null,
   "id": "63338e60-9773-42a8-9f72-a9bc3253fe11",
   "metadata": {},
   "outputs": [],
   "source": [
    "load_dotenv(override=True)\n",
    "google_api_key = os.getenv('GOOGLE_API_KEY')\n",
    "\n",
    "if google_api_key:\n",
    "    print(f\"Google API Key exists and begins {google_api_key[:8]}\")\n",
    "else:\n",
    "    print(\"Google API Key not set\")"
   ]
  },
  {
   "cell_type": "code",
   "execution_count": null,
   "id": "eb57a57f",
   "metadata": {},
   "outputs": [],
   "source": [
    "    \n",
    "model = genai.GenerativeModel('gemini-2.0-flash')\n",
    "genai.configure(api_key=google_api_key)"
   ]
  },
  {
   "cell_type": "markdown",
   "id": "843e227c",
   "metadata": {},
   "source": [
    "### Let's test Gemini"
   ]
  },
  {
   "cell_type": "code",
   "execution_count": null,
   "id": "34965afc-c7ed-4ce9-b40e-45a544ff9aed",
   "metadata": {},
   "outputs": [],
   "source": [
    "question = 'What is the capital of Argentina?'\n",
    "response = model.generate_content(question)\n",
    "response.resolve()\n",
    "print(response.candidates[0].content.parts[0].text)"
   ]
  },
  {
   "cell_type": "code",
   "execution_count": null,
   "id": "5a58d137-68b8-4971-b701-5fa2eb8fc819",
   "metadata": {},
   "outputs": [],
   "source": [
    "chat = model.start_chat(history=[])\n",
    "countries = ['Chile', 'Bolivia']\n",
    "\n",
    "for country in countries:\n",
    "    message = f'What is the capital of {country}?'\n",
    "    chat.send_message(message)\n",
    "\n",
    "chat.history"
   ]
  },
  {
   "cell_type": "markdown",
   "id": "871728ea",
   "metadata": {},
   "source": [
    "## Simple Chatbot using Gemini + Gradio"
   ]
  },
  {
   "cell_type": "code",
   "execution_count": null,
   "id": "58b644b1-56a1-44f3-97fb-1d4f11037b98",
   "metadata": {},
   "outputs": [],
   "source": [
    "SYSTEM_PROMPT=\"You are an helpful assistant. Answer the questions as best as you can.\"\n",
    "chat = model.start_chat(history=[\n",
    "    {\"role\": \"user\", \"parts\": [{\"text\": SYSTEM_PROMPT}]}\n",
    "])"
   ]
  },
  {
   "cell_type": "code",
   "execution_count": null,
   "id": "d0645ee3",
   "metadata": {},
   "outputs": [],
   "source": [
    "# Transform Gradio history to Gemini format\n",
    "def transform_history(history):\n",
    "    new_history = []\n",
    "    for user_msg, bot_msg in history:\n",
    "        new_history.append({\"role\": \"user\", \"parts\": [{\"text\": user_msg}]})\n",
    "        new_history.append({\"role\": \"model\", \"parts\": [{\"text\": bot_msg}]})\n",
    "    return new_history"
   ]
  },
  {
   "cell_type": "code",
   "execution_count": null,
   "id": "a2790584",
   "metadata": {},
   "outputs": [],
   "source": [
    "# Chat response generator\n",
    "def response(message: str, history: list):\n",
    "    try:\n",
    "        # Sync Gemini chat history with Gradio history\n",
    "        chat.history = [{\"role\": \"user\", \"parts\": [{\"text\": SYSTEM_PROMPT}]}] + transform_history(history)\n",
    "\n",
    "        # Send user message\n",
    "        gemini_response = chat.send_message(message)\n",
    "        gemini_response.resolve()\n",
    "\n",
    "        # Yield response character-by-character\n",
    "        for i in range(len(gemini_response.text)):\n",
    "            yield gemini_response.text[:i+1]\n",
    "\n",
    "    except Exception as e:\n",
    "        yield f\"⚠️ Error: {str(e)}\""
   ]
  },
  {
   "cell_type": "code",
   "execution_count": null,
   "id": "81e91376",
   "metadata": {},
   "outputs": [],
   "source": [
    "# Launch Gradio ChatInterface\n",
    "gr.ChatInterface(\n",
    "    fn=response,\n",
    "    title='Simple ChatBot with Gemini',\n",
    "    description='This is a simple chatbot using Gemini. Ask me anything!',\n",
    "    examples=[\n",
    "        ['What is the capital of India?', 'New Delhi'],\n",
    "        ['What is the name of our planet?', 'Earth']\n",
    "    ],\n",
    "    type=\"messages\",\n",
    "    textbox=gr.Textbox(placeholder=\"Question to Gemini\")\n",
    ").launch(debug=True)"
   ]
  }
 ],
 "metadata": {
  "kernelspec": {
   "display_name": "Python 3 (ipykernel)",
   "language": "python",
   "name": "python3"
  },
  "language_info": {
   "codemirror_mode": {
    "name": "ipython",
    "version": 3
   },
   "file_extension": ".py",
   "mimetype": "text/x-python",
   "name": "python",
   "nbconvert_exporter": "python",
   "pygments_lexer": "ipython3",
   "version": "3.12.7"
  }
 },
 "nbformat": 4,
 "nbformat_minor": 5
}
